{
 "cells": [
  {
   "cell_type": "code",
   "execution_count": 4,
   "metadata": {},
   "outputs": [
    {
     "data": {
      "text/plain": [
       "array([[-1.73198856, -1.31237085],\n",
       "       [-1.73187322, -1.31992415],\n",
       "       [-1.73175902, -1.31296195],\n",
       "       ...,\n",
       "       [ 1.7317596 , -1.35289255],\n",
       "       [ 1.7318738 , -1.35978744],\n",
       "       [ 1.73199297, -1.39534036]])"
      ]
     },
     "execution_count": 4,
     "metadata": {},
     "output_type": "execute_result"
    }
   ],
   "source": [
    "from sklearn import preprocessing\n",
    "import numpy as np\n",
    "import pandas as pd\n",
    "tmp = pd.read_excel(\"CrCoNi.xlsx\",sheet_name=\"302050\",usecols=\"A:B\")\n",
    "scaler = preprocessing.StandardScaler().fit(tmp)\n",
    "scaler\n",
    "\n",
    "scaler.mean_\n",
    "\n",
    "scaler.scale_\n",
    "\n",
    "X_scaled = scaler.transform(tmp)\n",
    "X_scaled"
   ]
  },
  {
   "cell_type": "code",
   "execution_count": 6,
   "metadata": {},
   "outputs": [
    {
     "name": "stdout",
     "output_type": "stream",
     "text": [
      "b\n"
     ]
    }
   ],
   "source": [
    "data1 = np.array(['a', 'b', 'c', 'd', 'e'])\n",
    "\n",
    "sl = pd.Series(data1)\n",
    "print(sl[1])"
   ]
  }
 ],
 "metadata": {
  "kernelspec": {
   "display_name": "test",
   "language": "python",
   "name": "python3"
  },
  "language_info": {
   "codemirror_mode": {
    "name": "ipython",
    "version": 3
   },
   "file_extension": ".py",
   "mimetype": "text/x-python",
   "name": "python",
   "nbconvert_exporter": "python",
   "pygments_lexer": "ipython3",
   "version": "3.11.5"
  }
 },
 "nbformat": 4,
 "nbformat_minor": 2
}
