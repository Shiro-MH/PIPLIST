{
 "cells": [
  {
   "cell_type": "code",
   "execution_count": 1,
   "metadata": {},
   "outputs": [],
   "source": [
    "import pandas as pd\n",
    "import numpy as np"
   ]
  },
  {
   "cell_type": "code",
   "execution_count": 14,
   "metadata": {},
   "outputs": [
    {
     "name": "stdout",
     "output_type": "stream",
     "text": [
      "   name  age  score\n",
      "0  Jeff   22     22\n",
      "1  Beth   34     80\n"
     ]
    }
   ],
   "source": [
    "data1 = [1, 2, 3, 4]\n",
    "data2 = [['Lois', 17], ['Joe', 18], ['Carol', 19]]\n",
    "data3 = {'Name':['Brenda', 'Benjamie', 'Rick', 'Morty'], 'Age':[28, 34, 76, 21]}\n",
    "data4 = [{'name': 'Jeff',  'age': 22, 'score': 22}, {'name': 'Beth', 'age': 34, 'score': 80}]\n",
    "dic = {'first': 111, 'second': 222, 'third': 333}\n",
    "data5 = {'first': pd.Series({'a': 1, 'b': 2, 'c': 3}), 'two': pd.Series(np.array(['a', 'b', 'c', 'd']), index=['a', 'b', 'c', 'd'])}\n",
    "\n",
    "df = pd.DataFrame(data4)\n",
    "print(df)"
   ]
  },
  {
   "cell_type": "code",
   "execution_count": null,
   "metadata": {},
   "outputs": [],
   "source": []
  }
 ],
 "metadata": {
  "kernelspec": {
   "display_name": "test",
   "language": "python",
   "name": "python3"
  },
  "language_info": {
   "codemirror_mode": {
    "name": "ipython",
    "version": 3
   },
   "file_extension": ".py",
   "mimetype": "text/x-python",
   "name": "python",
   "nbconvert_exporter": "python",
   "pygments_lexer": "ipython3",
   "version": "3.11.5"
  }
 },
 "nbformat": 4,
 "nbformat_minor": 2
}
