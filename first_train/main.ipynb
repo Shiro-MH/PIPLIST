{
 "cells": [
  {
   "cell_type": "code",
   "execution_count": 1,
   "metadata": {},
   "outputs": [],
   "source": [
    "import pandas as pd\n",
    "from sklearn.linear_model import LinearRegression\n",
    "from sklearn.metrics import mean_squared_error, r2_score\n"
   ]
  },
  {
   "cell_type": "code",
   "execution_count": 2,
   "metadata": {},
   "outputs": [
    {
     "name": "stdout",
     "output_type": "stream",
     "text": [
      "     x   y   z  strain     stress\n",
      "0   30  20  50     NaN   9.794568\n",
      "1   30  22  48     NaN  10.543326\n",
      "2   30  24  46     NaN   9.318031\n",
      "3   30  26  44     NaN   8.055853\n",
      "4   30  28  42     NaN   8.103423\n",
      "5   30  30  40     NaN   8.334296\n",
      "6   30  32  38     NaN   8.015246\n",
      "7   30  36  34     NaN   6.335454\n",
      "8   30  38  32     NaN   6.656959\n",
      "9   30  40  30     NaN   6.215643\n",
      "10  30  42  28     NaN   5.762056\n",
      "11  30  44  26     NaN   5.701195\n",
      "12  30  46  24     NaN   5.076200\n"
     ]
    }
   ],
   "source": [
    "tmp = pd.read_excel(\"CrCoNi.xlsx\", sheet_name=\"SUM\")\n",
    "print(tmp)"
   ]
  },
  {
   "cell_type": "code",
   "execution_count": 4,
   "metadata": {},
   "outputs": [
    {
     "name": "stdout",
     "output_type": "stream",
     "text": [
      "pred: 5.291236223749042\n",
      "exper: 5.70119518579636\n",
      "mse: 0.10046481209973422\n",
      "coeff: -0.028775397775182787\n"
     ]
    }
   ],
   "source": [
    "# 將資料分為特徵 (X) 和目標 (y)\n",
    "X = tmp[[\"x\", \"y\", \"z\"]]\n",
    "y = tmp[\"stress\"]\n",
    "\n",
    "# 將資料分為訓練集和測試集，這裡我們用第 13 個資料作為測試集，其餘作為訓練集\n",
    "X_train = X[:-2]\n",
    "X_test = X[-2:]\n",
    "y_train = y[:-2]\n",
    "y_test = y[-2:]\n",
    "\n",
    "# 建立一個線性迴歸的模型\n",
    "model = LinearRegression()\n",
    "\n",
    "# 用訓練集來訓練模型\n",
    "model.fit(X_train, y_train)\n",
    "\n",
    "# 用測試集來預測目標\n",
    "y_pred = model.predict(X_test)\n",
    "\n",
    "# 印出預測結果和實際結果的比較\n",
    "print(\"pred:\", y_pred[0])\n",
    "print(\"exper:\", y_test.iloc[0])\n",
    "\n",
    "# 計算並印出均方誤差和決定係數\n",
    "mse = mean_squared_error(y_test, y_pred)\n",
    "r2 = r2_score(y_test, y_pred)\n",
    "print(\"mse:\", mse)\n",
    "print(\"coeff:\", r2)"
   ]
  }
 ],
 "metadata": {
  "kernelspec": {
   "display_name": "test",
   "language": "python",
   "name": "python3"
  },
  "language_info": {
   "codemirror_mode": {
    "name": "ipython",
    "version": 3
   },
   "file_extension": ".py",
   "mimetype": "text/x-python",
   "name": "python",
   "nbconvert_exporter": "python",
   "pygments_lexer": "ipython3",
   "version": "3.11.5"
  }
 },
 "nbformat": 4,
 "nbformat_minor": 2
}
