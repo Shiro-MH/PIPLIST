{
 "cells": [
  {
   "cell_type": "code",
   "execution_count": null,
   "metadata": {},
   "outputs": [],
   "source": [
    "import pandas as pd\n",
    "\n",
    "# Creating a DataFrame for the SVR results\n",
    "svr_results = {\n",
    "    \"Metric\": [\n",
    "        \"Mean Squared Error (MSE)\",\n",
    "        \"Mean Absolute Error (MAE)\",\n",
    "        \"Root Mean Squared Error (RMSE)\",\n",
    "        \"R-squared (R2)\",\n",
    "        \"Explained Variance Score (EVS)\"\n",
    "    ],\n",
    "    \"Value\": [\n",
    "        0.1782890654821211,\n",
    "        0.3381352925244784,\n",
    "        0.42224289867577536,\n",
    "        0.9422338142560316,\n",
    "        0.9424869777451251\n",
    "    ]\n",
    "}\n",
    "\n",
    "# Creating a DataFrame for the actual vs predicted values\n",
    "actual_vs_predicted = {\n",
    "    \"Actual\": [4.648690, 8.379397, 10.002850, 7.417313, 5.762056],\n",
    "    \"Predicted\": [4.985996, 8.203323, 10.178366, 6.639853, 5.961442]\n",
    "}\n",
    "\n",
    "# Converting to DataFrames\n",
    "svr_results_df = pd.DataFrame(svr_results)\n",
    "actual_vs_predicted_df = pd.DataFrame(actual_vs_predicted)\n",
    "\n",
    "svr_results_df, actual_vs_predicted_df"
   ]
  }
 ],
 "metadata": {
  "language_info": {
   "name": "python"
  }
 },
 "nbformat": 4,
 "nbformat_minor": 2
}
